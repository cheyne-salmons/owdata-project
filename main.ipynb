{
 "cells": [
  {
   "cell_type": "code",
   "execution_count": 2,
   "metadata": {},
   "outputs": [],
   "source": [
    "# This is my first data analysis project\n",
    "# Using Python and Jupyter\n",
    "# I will also be learning github during this project"
   ]
  },
  {
   "cell_type": "code",
   "execution_count": 2,
   "metadata": {},
   "outputs": [],
   "source": [
    "# Import the Pandas library as pd so it's easier to reference\n",
    "import pandas as pd"
   ]
  },
  {
   "cell_type": "code",
   "execution_count": 3,
   "metadata": {},
   "outputs": [],
   "source": [
    "# Create the dataframe using the csv\n",
    "# Starting with the Season 1 stats\n",
    "df = pd.read_csv('ow2_season_01_FINAL_heroes_stats__2023-05-06.csv')"
   ]
  },
  {
   "cell_type": "code",
   "execution_count": null,
   "metadata": {},
   "outputs": [],
   "source": [
    "# Inspect the data to make sure it loaded correctly\n",
    "# print(df.head()) - I initially did this using the print function, which didn't display the columns how I wanted\n",
    "# Going to try just using the dataframe without the print function\n",
    "df.head() # This worked!"
   ]
  },
  {
   "cell_type": "code",
   "execution_count": null,
   "metadata": {},
   "outputs": [],
   "source": [
    "# Basic descriptive statistics on the entire set\n",
    "df.describe()"
   ]
  },
  {
   "cell_type": "code",
   "execution_count": 36,
   "metadata": {},
   "outputs": [
    {
     "data": {
      "text/plain": [
       "(280, 126)"
      ]
     },
     "execution_count": 36,
     "metadata": {},
     "output_type": "execute_result"
    }
   ],
   "source": [
    "# How many rows and columns\n",
    "df.shape"
   ]
  },
  {
   "cell_type": "code",
   "execution_count": null,
   "metadata": {},
   "outputs": [],
   "source": [
    "# What are the column names\n",
    "df.columns\n",
    "\n",
    "# That didn't seem to show all the column names\n",
    "print(df.columns)"
   ]
  },
  {
   "cell_type": "code",
   "execution_count": null,
   "metadata": {},
   "outputs": [],
   "source": [
    "# Use for loop to print column names\n",
    "for col_name in df.columns:\n",
    "    print(col_name)"
   ]
  },
  {
   "cell_type": "code",
   "execution_count": 22,
   "metadata": {},
   "outputs": [],
   "source": [
    "# Moira is my main. I want to see what kind of stats exist for her\n",
    "df[df.Hero == 'Moira']\n",
    "\n",
    "# I want to create a separate dataframe to isolate Moira's Data\n",
    "moira_df = df[df.Hero == 'Moira']\n"
   ]
  },
  {
   "cell_type": "code",
   "execution_count": 24,
   "metadata": {},
   "outputs": [
    {
     "name": "stdout",
     "output_type": "stream",
     "text": [
      "49.03375\n"
     ]
    }
   ],
   "source": [
    "# What is the average win rate across all tiers for Moira\n",
    "# Need to use .mean()\n",
    "moira_wr_mean = moira_df['Win Rate, %'].mean()\n",
    "print(moira_wr_mean)"
   ]
  },
  {
   "cell_type": "code",
   "execution_count": 27,
   "metadata": {},
   "outputs": [
    {
     "name": "stdout",
     "output_type": "stream",
     "text": [
      "49.03375\n"
     ]
    }
   ],
   "source": [
    "# Now I want to perform the same task without creating the separate dataframe\n",
    "# The loc function can accomplish this with a single line\n",
    "moira_wr_mean = df.loc[df['Hero'] == 'Moira', 'Win Rate, %'].mean()\n",
    "print(moira_wr_mean)"
   ]
  },
  {
   "cell_type": "code",
   "execution_count": 32,
   "metadata": {},
   "outputs": [
    {
     "data": {
      "text/plain": [
       "False"
      ]
     },
     "execution_count": 32,
     "metadata": {},
     "output_type": "execute_result"
    }
   ],
   "source": [
    "# My backup is Kiriko. I want to know the same information for her\n",
    "# I'm not sure if Kiriko was a hero yet. Let's find out first\n",
    "'Kiriko' in df['Hero']\n",
    "\n",
    "\n"
   ]
  },
  {
   "cell_type": "code",
   "execution_count": null,
   "metadata": {},
   "outputs": [],
   "source": []
  }
 ],
 "metadata": {
  "kernelspec": {
   "display_name": "Python 3",
   "language": "python",
   "name": "python3"
  },
  "language_info": {
   "codemirror_mode": {
    "name": "ipython",
    "version": 3
   },
   "file_extension": ".py",
   "mimetype": "text/x-python",
   "name": "python",
   "nbconvert_exporter": "python",
   "pygments_lexer": "ipython3",
   "version": "3.12.4"
  }
 },
 "nbformat": 4,
 "nbformat_minor": 2
}
